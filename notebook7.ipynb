{
 "cells": [
  {
   "cell_type": "markdown",
   "id": "d8bba665",
   "metadata": {},
   "source": [
    "<img src=\"https://www.sturgischarterschool.com/wp-content/uploads/2019/06/sturgisheader_logo.png\" alt=\"sturgis\" width=\"250\" align=\"right\"/>\n",
    "\n",
    "## Computer Science 'Near Neighbors' notebook 7\n",
    "### Sturgis Charter Public School \n",
    "\n"
   ]
  },
  {
   "cell_type": "markdown",
   "id": "681696fb",
   "metadata": {},
   "source": [
    "Student: [your name here]\n",
    "\n",
    "Collaborators: [N/A]\n",
    "\n",
    "Notes to the teacher: [N/A]"
   ]
  },
  {
   "cell_type": "markdown",
   "id": "16bf0839",
   "metadata": {},
   "source": [
    "### Learning Objectives for notebook \n",
    "* Matplotlib\n",
    "* Loading a CSV file. \n",
    "* Calculating distance between two values\n",
    "* K Nearest Neighbors"
   ]
  },
  {
   "cell_type": "markdown",
   "id": "8c79db0b",
   "metadata": {},
   "source": [
    "#### Matplotlib\n",
    "\n",
    "Let's start by downloading matplotlib, so that we can render some of the data we have visually. In order do to that you may reference the following website. [Installation](https://matplotlib.org/stable/users/installing/index.html), and [tutorials](https://matplotlib.org/stable/tutorials/index). The short version is that you need to run a command in your command prompt or terminal **(Not git or anaconda terminal)**. Here's the prompt: `python -m pip install -U matplotlib`. It's possible you might need to run the following command first, if your Pip isn't up to date (but I doubt it): `python -m pip install -U pip`.\n",
    "\n",
    "Once you have it up and running feel free to explore a little bit. Here's a note on colors to speed you on your way. \n",
    "\n",
    "There are many color options for graphs, but we'll start with these. In order to use them you can simply do `facecolor = 'C0'`. You may change the number to get a different color ranging from zero to nine. There are other ways to have even more color options, but we'll start with something simple. \n",
    "![colors](colors0_9.png)\n",
    "\n",
    "#### Opening a CSV (comma separated values) file\n",
    "\n",
    "Alright, let's talk about loading a CSV file. This time I'm going to have you do the task. You may want to look back at previous notebooks to see the syntax for opening a CSV file. The file is already in this repos (folder), and all you should have to do is call the file name, rather than get a file path. If you need help feel free to look online. For example here is [geeksforgeeks](https://www.geeksforgeeks.org/working-csv-files-python/).\n",
    "\n",
    "#### Calculating distance between two values\n",
    "\n",
    "There are surprisingly quite a few ways to calculate the distance between two values. For example we could look at [Euclidian distance](https://www.cut-the-knot.org/pythagoras/DistanceFormula.shtml). Another common one is cosine distance, feel free to take a look at this article to explore the differences [euclidian vs cosine](https://cmry.github.io/notes/euclidean-v-cosine). Conveniently the `math` import in python has euclidian distnace baked into it. We will definitely use this to our advantage. \n",
    "\n",
    "#### K Nearest Neighbor\n",
    "\n",
    "K is just a variable. It could be 5 or 13 or some other number. We're going to figure out where are unknown data goes by classifying according to what it sits closest to. If that doesn't make sense, then just hang tight, and perhaps take a look at the [following link](https://realpython.com/knn-python/). Here's another great link [IBM](https://www.ibm.com/topics/knn).\n",
    "\n"
   ]
  },
  {
   "cell_type": "code",
   "execution_count": null,
   "id": "fb3eb272",
   "metadata": {},
   "outputs": [],
   "source": [
    "import matplotlib.pyplot as plt\n",
    "import csv\n",
    "import re\n",
    "import random\n",
    "import math"
   ]
  },
  {
   "cell_type": "markdown",
   "id": "f74eaac6",
   "metadata": {},
   "source": [
    "### Question 1: Opening a CSV File\n",
    "Open the file labeled `housing.csv`. Make a list variable entitled `housing`."
   ]
  },
  {
   "cell_type": "code",
   "execution_count": null,
   "id": "c8e8e65c",
   "metadata": {},
   "outputs": [],
   "source": [
    "# Use your own code to open the CSV file and read it in. "
   ]
  },
  {
   "cell_type": "code",
   "execution_count": null,
   "id": "2f13a349",
   "metadata": {},
   "outputs": [],
   "source": [
    "assert len(housing) == 20641\n",
    "assert housing[0] == ['longitude', 'latitude', 'housing_median_age', 'total_rooms', 'total_bedrooms', 'population', 'households', 'median_income', 'median_house_value', 'ocean_proximity']\n",
    "assert housing[15] == ['-122.26', '37.85', '52.0', '2643.0', '626.0', '1212.0', '620.0', '1.9167', '159200.0', 'NEAR BAY']"
   ]
  },
  {
   "cell_type": "code",
   "execution_count": null,
   "id": "c6138fcf",
   "metadata": {},
   "outputs": [],
   "source": [
    "# Use this code, no need to change it, to get the data you will use. Subsets should be used for question2.\n",
    "random.Random(100).shuffle(housing)\n",
    "subsets = {'UNKNOWN':[[],[]]}\n",
    "euclidian = {'UNKNOWN':[]}\n",
    "for i, line in enumerate(housing[:1500]):\n",
    "    if float(line[8]) >= 500000: continue\n",
    "    if i%5 == 0:\n",
    "        subsets['UNKNOWN'][0].append(float(line[7]))\n",
    "        subsets['UNKNOWN'][1].append(float(line[8]))\n",
    "        euclidian['UNKNOWN'].append((float(line[7]), float(line[8])/1000))\n",
    "        continue\n",
    "    if line[9] not in subsets:\n",
    "        subsets[line[9]] = [[float(line[7])],[float(line[8])]]\n",
    "        euclidian[line[9]] = [(float(line[7]), float(line[8])/1000)]\n",
    "    else:\n",
    "        subsets[line[9]][0].append(float(line[7]))\n",
    "        subsets[line[9]][1].append(float(line[8]))\n",
    "        euclidian[line[9]].append((float(line[7]), float(line[8])/1000))"
   ]
  },
  {
   "cell_type": "markdown",
   "id": "0cfe4956",
   "metadata": {},
   "source": [
    "### Question 2: Plotting some data\n",
    "\n",
    "Use a scatter plot to show the three datasets, they are currently inside of a dictionary. So you want one layer that has `'INLAND'`, another `'<1H OCEAN'`, and finally are `'UNKNOWN'` data. There will not be an assert check for this question, rather your answer is your graph. "
   ]
  },
  {
   "cell_type": "code",
   "execution_count": null,
   "id": "44e950c9",
   "metadata": {},
   "outputs": [],
   "source": [
    "#Your code here that builds a plot of the data. It should have three colors. "
   ]
  },
  {
   "cell_type": "markdown",
   "id": "65602450",
   "metadata": {},
   "source": [
    "### Question 3: Euclidean Distance\n",
    "\n",
    "Make sure that you've imported the math package, as we're going to use it to calculate distance. Calling the function is as easy as the following line of code `math.dist()`. Be sure to put your variables inside of the function parameters. You can calculate the distance between single numbers, but that's not very interesting. What's the distance between 1 and 6, well that's 5. We're interested (for the moment) in numbers that have an x value and a y value. Let's see what we can do here. "
   ]
  },
  {
   "cell_type": "code",
   "execution_count": null,
   "id": "8cf97dcb",
   "metadata": {},
   "outputs": [],
   "source": [
    "# Use the following data. \n",
    "A = euclidian['UNKNOWN'][0]\n",
    "B = euclidian['INLAND'][0]\n",
    "C = euclidian['<1H OCEAN'][0]\n",
    "\n",
    "#Get proximity scores for AB, AC, BC."
   ]
  },
  {
   "cell_type": "code",
   "execution_count": null,
   "id": "e11917c4",
   "metadata": {},
   "outputs": [],
   "source": [
    "assert math.isclose(AB, 117.52, abs_tol = .1)\n",
    "assert math.isclose(AC, 55.9342, abs_tol = .1)\n",
    "assert math.isclose(BC, 61.6, abs_tol = .1)"
   ]
  },
  {
   "cell_type": "markdown",
   "id": "97f58a7a",
   "metadata": {},
   "source": [
    "### HL Extension: Question 3.2\n",
    "Create a function which calculates Euclidian distance, such that it gets the same answer as math.dist. Remember that euclidian distance is inspired by the pythagorean theorem. Your function should be able to handle at least two values, that are passed to it as a pair of tuples. Your function should **not** use any math.dist or any other function which magically does euclidian distance for you."
   ]
  },
  {
   "cell_type": "code",
   "execution_count": null,
   "id": "80e59881",
   "metadata": {},
   "outputs": [],
   "source": [
    "def eucdist(tup1, tup2):\n",
    "    #write your code here\n",
    "    return distance"
   ]
  },
  {
   "cell_type": "code",
   "execution_count": null,
   "id": "fc37efcc",
   "metadata": {},
   "outputs": [],
   "source": [
    "assert math.isclose(math.dist(A,B), eucdist(A,B), abs_tol = .1)\n",
    "assert math.isclose(math.dist(A,C), eucdist(A,C), abs_tol = .1)\n",
    "assert math.isclose(math.dist(B,C), eucdist(B,C), abs_tol = .1)"
   ]
  },
  {
   "cell_type": "markdown",
   "id": "598a7feb",
   "metadata": {},
   "source": [
    "### Question 4: Simple KNN\n",
    "For each of the unknown data points I want you to make a prediction, either that it is part of INLAND or part of <1H OCEAN. You should accomplish this by calculating the 5 nearest neighbors, and identifying if they are INLAND (Green) or <1H OCEAN (Purple). \n",
    "\n",
    "Hint: I found it useful to create a dictionary called `answers` in which the keys were the coordinates of the unknown and the value were the five most stimilar from either `INLAND` or `<1H OCEAN`. I then fed this into two different lists that I could use for plotting. "
   ]
  },
  {
   "cell_type": "code",
   "execution_count": null,
   "id": "cb35a025",
   "metadata": {},
   "outputs": [],
   "source": [
    "Inland = []\n",
    "OneH_Ocean = []"
   ]
  },
  {
   "cell_type": "code",
   "execution_count": null,
   "id": "9a0f20a4",
   "metadata": {},
   "outputs": [],
   "source": [
    "#Your code here. Build an algorithm that compares unknown coordinates to both the Inland and <1H Ocean coordinates, and selects the five closest scores."
   ]
  },
  {
   "cell_type": "code",
   "execution_count": null,
   "id": "73f863e7",
   "metadata": {},
   "outputs": [],
   "source": [
    "assert type(Inland[0] == tuple)\n",
    "assert math.isclose(len(Inland), 121, abs_tol = 20)\n",
    "assert type(OneH_Ocean[0] == tuple)\n",
    "assert math.isclose(len(OneH_Ocean), 167, abs_tol = 20)"
   ]
  },
  {
   "cell_type": "code",
   "execution_count": null,
   "id": "b073479d",
   "metadata": {},
   "outputs": [],
   "source": [
    "#It might be helpful to use something like below. Now would be the time to add the 1000 back into the x value.\n",
    "'''xvali = [x[1]*1000 for x in Inland]\n",
    "yvali = [y[0] for y in Inland]\n",
    "xvalo = [x[1]*1000 for x in OneH_Ocean]\n",
    "yvalo = [y[0] for y in OneH_Ocean]'''\n",
    "\n",
    "#Create a scatter plot of your new data. This should be similar code to your first plot. Then overlay your old data. Do they match?"
   ]
  },
  {
   "cell_type": "markdown",
   "id": "069e983a",
   "metadata": {},
   "source": [
    "### HL Extension: Question 5\n",
    "Explain your findings in 1-3 paragraphs. Answer the following questions. \n",
    "* Explain how K-nn works\n",
    "* Explain in your estimation if the K-nn classifier properly classified the data. \n",
    "* Consider what might happen if you changed either which part of the data you chose for KNN (`'longitude', 'latitude', 'housing_median_age', 'total_rooms', 'total_bedrooms', 'population', 'households', 'median_income', 'median_house_value', 'ocean_proximity'`) Which of these might be appropriate for this algorithm, and which might not be?\n",
    "* Consider what might happen if you changed the distance algorithm you used from Euclidian to either Cosine or Manhattan or 'city block' distance. Would this improve your classifications or not?\n",
    "\n"
   ]
  },
  {
   "cell_type": "markdown",
   "id": "065424f9",
   "metadata": {},
   "source": [
    "Write your answers here: (Double click to open the cell)."
   ]
  }
 ],
 "metadata": {
  "kernelspec": {
   "display_name": "Python 3 (ipykernel)",
   "language": "python",
   "name": "python3"
  },
  "language_info": {
   "codemirror_mode": {
    "name": "ipython",
    "version": 3
   },
   "file_extension": ".py",
   "mimetype": "text/x-python",
   "name": "python",
   "nbconvert_exporter": "python",
   "pygments_lexer": "ipython3",
   "version": "3.9.7"
  }
 },
 "nbformat": 4,
 "nbformat_minor": 5
}
